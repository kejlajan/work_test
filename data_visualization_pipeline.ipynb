{
 "cells": [
  {
   "cell_type": "markdown",
   "id": "650ccf49",
   "metadata": {},
   "source": [
    "V přiloženém excelu máte dvě tabulky. Jedna představuje transakce (objednávky), které proběhly v E-shopu. Druhá představuje databázi produktů v E-shopu.\n",
    "Ke všem otázkám níže prosím popisujte i postup, jak jste k danému závěru došli. Pro analýzu a prezentaci výsledků využijte nástroje dle vaší volby.\n",
    "Manager E-shopu se ptá:\n",
    "1.\tNa jaké kategorii produktů máme největší obrat? Mění se na tom v jednotlivých měsících něco?\n",
    "2.\tKterý den v týdnu je nejsilnější na počet objednávek?\n",
    "3.\tOd 18. 3. 2022 došlo k navýšení budgetu na online marketingových platformách (Google Ads, Sklik, Facebook). Ovlivnilo to nějak prodeje? A pokud ano, tak jak? (externí vlivy zanedbejme)\n",
    "\n",
    "Pokud něco ze zadání není jasné, tak se neváhejte zeptat.\n"
   ]
  },
  {
   "cell_type": "markdown",
   "id": "95e7ef9e",
   "metadata": {},
   "source": [
    "import packages:"
   ]
  },
  {
   "cell_type": "code",
   "execution_count": 1,
   "id": "ecf19864",
   "metadata": {},
   "outputs": [],
   "source": [
    "import matplotlib.pyplot as plt # for plotting\n",
    "import numpy as np # maybe not needed\n",
    "import pandas as pd # for dataframes\n",
    "from datetime import datetime # for format conversion\n",
    "from datetime import date # for days of the week\n",
    "import calendar # for month names"
   ]
  },
  {
   "cell_type": "markdown",
   "id": "b04aedfa",
   "metadata": {},
   "source": [
    "specify input .csv files:"
   ]
  },
  {
   "cell_type": "code",
   "execution_count": 2,
   "id": "5f5f922a",
   "metadata": {},
   "outputs": [],
   "source": [
    "input_products = \"./produkty.csv\"\n",
    "input_transactions = \"./transakce.csv\""
   ]
  },
  {
   "cell_type": "markdown",
   "id": "213d7a45",
   "metadata": {},
   "source": [
    "read product .csv file into a dataframe:"
   ]
  },
  {
   "cell_type": "code",
   "execution_count": 3,
   "id": "b34dd4c0",
   "metadata": {},
   "outputs": [],
   "source": [
    "products_DF = pd.read_csv(input_products,sep = \";\")\n",
    "#products_DF"
   ]
  },
  {
   "cell_type": "markdown",
   "id": "5b9a97a6",
   "metadata": {},
   "source": [
    "read transaction .csv file into a dataframe:"
   ]
  },
  {
   "cell_type": "code",
   "execution_count": 4,
   "id": "3908c1da",
   "metadata": {},
   "outputs": [],
   "source": [
    "transactions_DF = pd.read_csv(input_transactions, sep = \";\")\n",
    "#transactions_DF"
   ]
  },
  {
   "cell_type": "markdown",
   "id": "6e6ddebe",
   "metadata": {},
   "source": [
    "create a copy beacause we will alter the dataframe next and keeping it the same way might be helpful:"
   ]
  },
  {
   "cell_type": "code",
   "execution_count": 5,
   "id": "d7dc03fe",
   "metadata": {},
   "outputs": [],
   "source": [
    "money_transactions_DF = transactions_DF.copy()"
   ]
  },
  {
   "cell_type": "markdown",
   "id": "03abbfaf",
   "metadata": {},
   "source": [
    "merging the two dataframes, thus adding Category and Price to transactions:"
   ]
  },
  {
   "cell_type": "code",
   "execution_count": 6,
   "id": "1fd693a0",
   "metadata": {},
   "outputs": [],
   "source": [
    "money_transactions_DF = money_transactions_DF.merge(products_DF, how=\"inner\", on=\"Product name\")"
   ]
  },
  {
   "cell_type": "markdown",
   "id": "d3145037",
   "metadata": {},
   "source": [
    "out of Quantity and Price we can then calculate total paid amount:"
   ]
  },
  {
   "cell_type": "code",
   "execution_count": 7,
   "id": "abcaf658",
   "metadata": {},
   "outputs": [],
   "source": [
    "money_transactions_DF[\"Paid amount\"] = money_transactions_DF[\"Price\"]*money_transactions_DF[\"Quantity\"]"
   ]
  },
  {
   "cell_type": "markdown",
   "id": "85942d9c",
   "metadata": {},
   "source": [
    "# Task 1:"
   ]
  },
  {
   "cell_type": "markdown",
   "id": "80232259",
   "metadata": {},
   "source": [
    "sorting the values by date:"
   ]
  },
  {
   "cell_type": "code",
   "execution_count": 8,
   "id": "443ce01f",
   "metadata": {
    "scrolled": true
   },
   "outputs": [
    {
     "data": {
      "text/html": [
       "<div>\n",
       "<style scoped>\n",
       "    .dataframe tbody tr th:only-of-type {\n",
       "        vertical-align: middle;\n",
       "    }\n",
       "\n",
       "    .dataframe tbody tr th {\n",
       "        vertical-align: top;\n",
       "    }\n",
       "\n",
       "    .dataframe thead th {\n",
       "        text-align: right;\n",
       "    }\n",
       "</style>\n",
       "<table border=\"1\" class=\"dataframe\">\n",
       "  <thead>\n",
       "    <tr style=\"text-align: right;\">\n",
       "      <th></th>\n",
       "      <th>Transaction ID</th>\n",
       "      <th>Date</th>\n",
       "      <th>Product name</th>\n",
       "      <th>Quantity</th>\n",
       "      <th>Category</th>\n",
       "      <th>Price</th>\n",
       "      <th>Paid amount</th>\n",
       "    </tr>\n",
       "  </thead>\n",
       "  <tbody>\n",
       "    <tr>\n",
       "      <th>0</th>\n",
       "      <td>1</td>\n",
       "      <td>2022-02-01</td>\n",
       "      <td>Samsung QN55Q80T</td>\n",
       "      <td>1</td>\n",
       "      <td>Televize</td>\n",
       "      <td>29990</td>\n",
       "      <td>29990</td>\n",
       "    </tr>\n",
       "    <tr>\n",
       "      <th>10</th>\n",
       "      <td>1</td>\n",
       "      <td>2022-02-01</td>\n",
       "      <td>Apple iPhone 12 Pro</td>\n",
       "      <td>1</td>\n",
       "      <td>Mobilní telefony</td>\n",
       "      <td>27990</td>\n",
       "      <td>27990</td>\n",
       "    </tr>\n",
       "    <tr>\n",
       "      <th>30</th>\n",
       "      <td>2</td>\n",
       "      <td>2022-02-02</td>\n",
       "      <td>Xiaomi Poco X3 Pro</td>\n",
       "      <td>1</td>\n",
       "      <td>Mobilní telefony</td>\n",
       "      <td>5690</td>\n",
       "      <td>5690</td>\n",
       "    </tr>\n",
       "    <tr>\n",
       "      <th>20</th>\n",
       "      <td>2</td>\n",
       "      <td>2022-02-02</td>\n",
       "      <td>Lenovo Tab P11 Pro</td>\n",
       "      <td>2</td>\n",
       "      <td>Tablety</td>\n",
       "      <td>11990</td>\n",
       "      <td>23980</td>\n",
       "    </tr>\n",
       "    <tr>\n",
       "      <th>44</th>\n",
       "      <td>3</td>\n",
       "      <td>2022-02-03</td>\n",
       "      <td>Bose QuietComfort Earbuds</td>\n",
       "      <td>2</td>\n",
       "      <td>Audio</td>\n",
       "      <td>7490</td>\n",
       "      <td>14980</td>\n",
       "    </tr>\n",
       "    <tr>\n",
       "      <th>...</th>\n",
       "      <td>...</td>\n",
       "      <td>...</td>\n",
       "      <td>...</td>\n",
       "      <td>...</td>\n",
       "      <td>...</td>\n",
       "      <td>...</td>\n",
       "      <td>...</td>\n",
       "    </tr>\n",
       "    <tr>\n",
       "      <th>118</th>\n",
       "      <td>77</td>\n",
       "      <td>2022-05-27</td>\n",
       "      <td>Samsung Galaxy Tab S7+</td>\n",
       "      <td>1</td>\n",
       "      <td>Tablety</td>\n",
       "      <td>24990</td>\n",
       "      <td>24990</td>\n",
       "    </tr>\n",
       "    <tr>\n",
       "      <th>140</th>\n",
       "      <td>77</td>\n",
       "      <td>2022-05-27</td>\n",
       "      <td>LG 75NANO81</td>\n",
       "      <td>1</td>\n",
       "      <td>Televize</td>\n",
       "      <td>44990</td>\n",
       "      <td>44990</td>\n",
       "    </tr>\n",
       "    <tr>\n",
       "      <th>83</th>\n",
       "      <td>78</td>\n",
       "      <td>2022-05-29</td>\n",
       "      <td>LG OLED55CX</td>\n",
       "      <td>1</td>\n",
       "      <td>Televize</td>\n",
       "      <td>38990</td>\n",
       "      <td>38990</td>\n",
       "    </tr>\n",
       "    <tr>\n",
       "      <th>59</th>\n",
       "      <td>78</td>\n",
       "      <td>2022-05-29</td>\n",
       "      <td>Bose QuietComfort Earbuds</td>\n",
       "      <td>2</td>\n",
       "      <td>Audio</td>\n",
       "      <td>7490</td>\n",
       "      <td>14980</td>\n",
       "    </tr>\n",
       "    <tr>\n",
       "      <th>19</th>\n",
       "      <td>78</td>\n",
       "      <td>2022-05-29</td>\n",
       "      <td>Apple iPhone 12 Pro</td>\n",
       "      <td>1</td>\n",
       "      <td>Mobilní telefony</td>\n",
       "      <td>27990</td>\n",
       "      <td>27990</td>\n",
       "    </tr>\n",
       "  </tbody>\n",
       "</table>\n",
       "<p>141 rows × 7 columns</p>\n",
       "</div>"
      ],
      "text/plain": [
       "     Transaction ID       Date               Product name  Quantity  \\\n",
       "0                 1 2022-02-01           Samsung QN55Q80T         1   \n",
       "10                1 2022-02-01        Apple iPhone 12 Pro         1   \n",
       "30                2 2022-02-02         Xiaomi Poco X3 Pro         1   \n",
       "20                2 2022-02-02         Lenovo Tab P11 Pro         2   \n",
       "44                3 2022-02-03  Bose QuietComfort Earbuds         2   \n",
       "..              ...        ...                        ...       ...   \n",
       "118              77 2022-05-27     Samsung Galaxy Tab S7+         1   \n",
       "140              77 2022-05-27                LG 75NANO81         1   \n",
       "83               78 2022-05-29                LG OLED55CX         1   \n",
       "59               78 2022-05-29  Bose QuietComfort Earbuds         2   \n",
       "19               78 2022-05-29        Apple iPhone 12 Pro         1   \n",
       "\n",
       "             Category  Price  Paid amount  \n",
       "0            Televize  29990        29990  \n",
       "10   Mobilní telefony  27990        27990  \n",
       "30   Mobilní telefony   5690         5690  \n",
       "20            Tablety  11990        23980  \n",
       "44              Audio   7490        14980  \n",
       "..                ...    ...          ...  \n",
       "118           Tablety  24990        24990  \n",
       "140          Televize  44990        44990  \n",
       "83           Televize  38990        38990  \n",
       "59              Audio   7490        14980  \n",
       "19   Mobilní telefony  27990        27990  \n",
       "\n",
       "[141 rows x 7 columns]"
      ]
     },
     "execution_count": 8,
     "metadata": {},
     "output_type": "execute_result"
    }
   ],
   "source": [
    "money_transactions_DF[\"Date\"] = pd.to_datetime(money_transactions_DF[\"Date\"], format=\"%d.%m.%Y\")\n",
    "money_transactions_DF.sort_values(by=\"Date\")\n"
   ]
  },
  {
   "cell_type": "markdown",
   "id": "3df89e0a",
   "metadata": {},
   "source": [
    "summing the paid amounts by category:"
   ]
  },
  {
   "cell_type": "code",
   "execution_count": 9,
   "id": "c8da31fc",
   "metadata": {},
   "outputs": [
    {
     "data": {
      "text/plain": [
       "Category\n",
       "Audio                416370\n",
       "Mobilní telefony     614460\n",
       "Tablety              623660\n",
       "Televize            1205680\n",
       "Name: Paid amount, dtype: int64"
      ]
     },
     "execution_count": 9,
     "metadata": {},
     "output_type": "execute_result"
    }
   ],
   "source": [
    "total_made_by_category_DF = money_transactions_DF.groupby(\"Category\")[\"Paid amount\"].sum()\n",
    "total_made_by_category_DF"
   ]
  },
  {
   "cell_type": "markdown",
   "id": "89b24884",
   "metadata": {},
   "source": [
    "Plotting the results:"
   ]
  },
  {
   "cell_type": "code",
   "execution_count": 10,
   "id": "84e48886",
   "metadata": {},
   "outputs": [
    {
     "data": {
      "image/png": "[encoded data removed]",
      "text/plain": [
       "<Figure size 640x480 with 1 Axes>"
      ]
     },
     "metadata": {},
     "output_type": "display_data"
    }
   ],
   "source": [
    "total_made_by_category_DF.plot.bar()\n",
    "\n",
    "plt.xlabel(None)\n",
    "plt.ylabel(\"Obrat [miliony Kč]\")\n",
    "plt.title(\"Obrat podle kategorie\")\n",
    "plt.xticks(rotation = 0)\n",
    "plt.savefig(\"total_turnover_by_category.png\")\n",
    "plt.show()"
   ]
  },
  {
   "cell_type": "markdown",
   "id": "027d56f4",
   "metadata": {},
   "source": [
    "add day of week column to our dataframe:"
   ]
  },
  {
   "cell_type": "code",
   "execution_count": 11,
   "id": "b3652e72",
   "metadata": {},
   "outputs": [
    {
     "data": {
      "text/html": [
       "<div>\n",
       "<style scoped>\n",
       "    .dataframe tbody tr th:only-of-type {\n",
       "        vertical-align: middle;\n",
       "    }\n",
       "\n",
       "    .dataframe tbody tr th {\n",
       "        vertical-align: top;\n",
       "    }\n",
       "\n",
       "    .dataframe thead th {\n",
       "        text-align: right;\n",
       "    }\n",
       "</style>\n",
       "<table border=\"1\" class=\"dataframe\">\n",
       "  <thead>\n",
       "    <tr style=\"text-align: right;\">\n",
       "      <th></th>\n",
       "      <th>Transaction ID</th>\n",
       "      <th>Date</th>\n",
       "      <th>Product name</th>\n",
       "      <th>Quantity</th>\n",
       "      <th>Category</th>\n",
       "      <th>Price</th>\n",
       "      <th>Paid amount</th>\n",
       "      <th>Day of week</th>\n",
       "    </tr>\n",
       "  </thead>\n",
       "  <tbody>\n",
       "    <tr>\n",
       "      <th>0</th>\n",
       "      <td>1</td>\n",
       "      <td>2022-02-01</td>\n",
       "      <td>Samsung QN55Q80T</td>\n",
       "      <td>1</td>\n",
       "      <td>Televize</td>\n",
       "      <td>29990</td>\n",
       "      <td>29990</td>\n",
       "      <td>Tuesday</td>\n",
       "    </tr>\n",
       "    <tr>\n",
       "      <th>10</th>\n",
       "      <td>1</td>\n",
       "      <td>2022-02-01</td>\n",
       "      <td>Apple iPhone 12 Pro</td>\n",
       "      <td>1</td>\n",
       "      <td>Mobilní telefony</td>\n",
       "      <td>27990</td>\n",
       "      <td>27990</td>\n",
       "      <td>Tuesday</td>\n",
       "    </tr>\n",
       "    <tr>\n",
       "      <th>30</th>\n",
       "      <td>2</td>\n",
       "      <td>2022-02-02</td>\n",
       "      <td>Xiaomi Poco X3 Pro</td>\n",
       "      <td>1</td>\n",
       "      <td>Mobilní telefony</td>\n",
       "      <td>5690</td>\n",
       "      <td>5690</td>\n",
       "      <td>Wednesday</td>\n",
       "    </tr>\n",
       "    <tr>\n",
       "      <th>20</th>\n",
       "      <td>2</td>\n",
       "      <td>2022-02-02</td>\n",
       "      <td>Lenovo Tab P11 Pro</td>\n",
       "      <td>2</td>\n",
       "      <td>Tablety</td>\n",
       "      <td>11990</td>\n",
       "      <td>23980</td>\n",
       "      <td>Wednesday</td>\n",
       "    </tr>\n",
       "    <tr>\n",
       "      <th>44</th>\n",
       "      <td>3</td>\n",
       "      <td>2022-02-03</td>\n",
       "      <td>Bose QuietComfort Earbuds</td>\n",
       "      <td>2</td>\n",
       "      <td>Audio</td>\n",
       "      <td>7490</td>\n",
       "      <td>14980</td>\n",
       "      <td>Thursday</td>\n",
       "    </tr>\n",
       "    <tr>\n",
       "      <th>...</th>\n",
       "      <td>...</td>\n",
       "      <td>...</td>\n",
       "      <td>...</td>\n",
       "      <td>...</td>\n",
       "      <td>...</td>\n",
       "      <td>...</td>\n",
       "      <td>...</td>\n",
       "      <td>...</td>\n",
       "    </tr>\n",
       "    <tr>\n",
       "      <th>118</th>\n",
       "      <td>77</td>\n",
       "      <td>2022-05-27</td>\n",
       "      <td>Samsung Galaxy Tab S7+</td>\n",
       "      <td>1</td>\n",
       "      <td>Tablety</td>\n",
       "      <td>24990</td>\n",
       "      <td>24990</td>\n",
       "      <td>Friday</td>\n",
       "    </tr>\n",
       "    <tr>\n",
       "      <th>140</th>\n",
       "      <td>77</td>\n",
       "      <td>2022-05-27</td>\n",
       "      <td>LG 75NANO81</td>\n",
       "      <td>1</td>\n",
       "      <td>Televize</td>\n",
       "      <td>44990</td>\n",
       "      <td>44990</td>\n",
       "      <td>Friday</td>\n",
       "    </tr>\n",
       "    <tr>\n",
       "      <th>83</th>\n",
       "      <td>78</td>\n",
       "      <td>2022-05-29</td>\n",
       "      <td>LG OLED55CX</td>\n",
       "      <td>1</td>\n",
       "      <td>Televize</td>\n",
       "      <td>38990</td>\n",
       "      <td>38990</td>\n",
       "      <td>Sunday</td>\n",
       "    </tr>\n",
       "    <tr>\n",
       "      <th>59</th>\n",
       "      <td>78</td>\n",
       "      <td>2022-05-29</td>\n",
       "      <td>Bose QuietComfort Earbuds</td>\n",
       "      <td>2</td>\n",
       "      <td>Audio</td>\n",
       "      <td>7490</td>\n",
       "      <td>14980</td>\n",
       "      <td>Sunday</td>\n",
       "    </tr>\n",
       "    <tr>\n",
       "      <th>19</th>\n",
       "      <td>78</td>\n",
       "      <td>2022-05-29</td>\n",
       "      <td>Apple iPhone 12 Pro</td>\n",
       "      <td>1</td>\n",
       "      <td>Mobilní telefony</td>\n",
       "      <td>27990</td>\n",
       "      <td>27990</td>\n",
       "      <td>Sunday</td>\n",
       "    </tr>\n",
       "  </tbody>\n",
       "</table>\n",
       "<p>141 rows × 8 columns</p>\n",
       "</div>"
      ],
      "text/plain": [
       "     Transaction ID       Date               Product name  Quantity  \\\n",
       "0                 1 2022-02-01           Samsung QN55Q80T         1   \n",
       "10                1 2022-02-01        Apple iPhone 12 Pro         1   \n",
       "30                2 2022-02-02         Xiaomi Poco X3 Pro         1   \n",
       "20                2 2022-02-02         Lenovo Tab P11 Pro         2   \n",
       "44                3 2022-02-03  Bose QuietComfort Earbuds         2   \n",
       "..              ...        ...                        ...       ...   \n",
       "118              77 2022-05-27     Samsung Galaxy Tab S7+         1   \n",
       "140              77 2022-05-27                LG 75NANO81         1   \n",
       "83               78 2022-05-29                LG OLED55CX         1   \n",
       "59               78 2022-05-29  Bose QuietComfort Earbuds         2   \n",
       "19               78 2022-05-29        Apple iPhone 12 Pro         1   \n",
       "\n",
       "             Category  Price  Paid amount Day of week  \n",
       "0            Televize  29990        29990     Tuesday  \n",
       "10   Mobilní telefony  27990        27990     Tuesday  \n",
       "30   Mobilní telefony   5690         5690   Wednesday  \n",
       "20            Tablety  11990        23980   Wednesday  \n",
       "44              Audio   7490        14980    Thursday  \n",
       "..                ...    ...          ...         ...  \n",
       "118           Tablety  24990        24990      Friday  \n",
       "140          Televize  44990        44990      Friday  \n",
       "83           Televize  38990        38990      Sunday  \n",
       "59              Audio   7490        14980      Sunday  \n",
       "19   Mobilní telefony  27990        27990      Sunday  \n",
       "\n",
       "[141 rows x 8 columns]"
      ]
     },
     "execution_count": 11,
     "metadata": {},
     "output_type": "execute_result"
    }
   ],
   "source": [
    "money_transactions_DF[\"Day of week\"] = money_transactions_DF[\"Date\"].dt.day_name()\n",
    "money_transactions_DF.sort_values(by=\"Date\")"
   ]
  },
  {
   "cell_type": "markdown",
   "id": "81fb3400",
   "metadata": {},
   "source": [
    "add the name of the month we will use this later to analyse by month - this approach is safe since our data do not span across multiple years:"
   ]
  },
  {
   "cell_type": "code",
   "execution_count": 12,
   "id": "9c440db6",
   "metadata": {},
   "outputs": [
    {
     "data": {
      "text/html": [
       "<div>\n",
       "<style scoped>\n",
       "    .dataframe tbody tr th:only-of-type {\n",
       "        vertical-align: middle;\n",
       "    }\n",
       "\n",
       "    .dataframe tbody tr th {\n",
       "        vertical-align: top;\n",
       "    }\n",
       "\n",
       "    .dataframe thead th {\n",
       "        text-align: right;\n",
       "    }\n",
       "</style>\n",
       "<table border=\"1\" class=\"dataframe\">\n",
       "  <thead>\n",
       "    <tr style=\"text-align: right;\">\n",
       "      <th></th>\n",
       "      <th>Transaction ID</th>\n",
       "      <th>Date</th>\n",
       "      <th>Product name</th>\n",
       "      <th>Quantity</th>\n",
       "      <th>Category</th>\n",
       "      <th>Price</th>\n",
       "      <th>Paid amount</th>\n",
       "      <th>Day of week</th>\n",
       "      <th>Month</th>\n",
       "    </tr>\n",
       "  </thead>\n",
       "  <tbody>\n",
       "    <tr>\n",
       "      <th>0</th>\n",
       "      <td>1</td>\n",
       "      <td>2022-02-01</td>\n",
       "      <td>Samsung QN55Q80T</td>\n",
       "      <td>1</td>\n",
       "      <td>Televize</td>\n",
       "      <td>29990</td>\n",
       "      <td>29990</td>\n",
       "      <td>Tuesday</td>\n",
       "      <td>February</td>\n",
       "    </tr>\n",
       "    <tr>\n",
       "      <th>10</th>\n",
       "      <td>1</td>\n",
       "      <td>2022-02-01</td>\n",
       "      <td>Apple iPhone 12 Pro</td>\n",
       "      <td>1</td>\n",
       "      <td>Mobilní telefony</td>\n",
       "      <td>27990</td>\n",
       "      <td>27990</td>\n",
       "      <td>Tuesday</td>\n",
       "      <td>February</td>\n",
       "    </tr>\n",
       "    <tr>\n",
       "      <th>30</th>\n",
       "      <td>2</td>\n",
       "      <td>2022-02-02</td>\n",
       "      <td>Xiaomi Poco X3 Pro</td>\n",
       "      <td>1</td>\n",
       "      <td>Mobilní telefony</td>\n",
       "      <td>5690</td>\n",
       "      <td>5690</td>\n",
       "      <td>Wednesday</td>\n",
       "      <td>February</td>\n",
       "    </tr>\n",
       "    <tr>\n",
       "      <th>20</th>\n",
       "      <td>2</td>\n",
       "      <td>2022-02-02</td>\n",
       "      <td>Lenovo Tab P11 Pro</td>\n",
       "      <td>2</td>\n",
       "      <td>Tablety</td>\n",
       "      <td>11990</td>\n",
       "      <td>23980</td>\n",
       "      <td>Wednesday</td>\n",
       "      <td>February</td>\n",
       "    </tr>\n",
       "    <tr>\n",
       "      <th>44</th>\n",
       "      <td>3</td>\n",
       "      <td>2022-02-03</td>\n",
       "      <td>Bose QuietComfort Earbuds</td>\n",
       "      <td>2</td>\n",
       "      <td>Audio</td>\n",
       "      <td>7490</td>\n",
       "      <td>14980</td>\n",
       "      <td>Thursday</td>\n",
       "      <td>February</td>\n",
       "    </tr>\n",
       "    <tr>\n",
       "      <th>...</th>\n",
       "      <td>...</td>\n",
       "      <td>...</td>\n",
       "      <td>...</td>\n",
       "      <td>...</td>\n",
       "      <td>...</td>\n",
       "      <td>...</td>\n",
       "      <td>...</td>\n",
       "      <td>...</td>\n",
       "      <td>...</td>\n",
       "    </tr>\n",
       "    <tr>\n",
       "      <th>118</th>\n",
       "      <td>77</td>\n",
       "      <td>2022-05-27</td>\n",
       "      <td>Samsung Galaxy Tab S7+</td>\n",
       "      <td>1</td>\n",
       "      <td>Tablety</td>\n",
       "      <td>24990</td>\n",
       "      <td>24990</td>\n",
       "      <td>Friday</td>\n",
       "      <td>May</td>\n",
       "    </tr>\n",
       "    <tr>\n",
       "      <th>140</th>\n",
       "      <td>77</td>\n",
       "      <td>2022-05-27</td>\n",
       "      <td>LG 75NANO81</td>\n",
       "      <td>1</td>\n",
       "      <td>Televize</td>\n",
       "      <td>44990</td>\n",
       "      <td>44990</td>\n",
       "      <td>Friday</td>\n",
       "      <td>May</td>\n",
       "    </tr>\n",
       "    <tr>\n",
       "      <th>83</th>\n",
       "      <td>78</td>\n",
       "      <td>2022-05-29</td>\n",
       "      <td>LG OLED55CX</td>\n",
       "      <td>1</td>\n",
       "      <td>Televize</td>\n",
       "      <td>38990</td>\n",
       "      <td>38990</td>\n",
       "      <td>Sunday</td>\n",
       "      <td>May</td>\n",
       "    </tr>\n",
       "    <tr>\n",
       "      <th>59</th>\n",
       "      <td>78</td>\n",
       "      <td>2022-05-29</td>\n",
       "      <td>Bose QuietComfort Earbuds</td>\n",
       "      <td>2</td>\n",
       "      <td>Audio</td>\n",
       "      <td>7490</td>\n",
       "      <td>14980</td>\n",
       "      <td>Sunday</td>\n",
       "      <td>May</td>\n",
       "    </tr>\n",
       "    <tr>\n",
       "      <th>19</th>\n",
       "      <td>78</td>\n",
       "      <td>2022-05-29</td>\n",
       "      <td>Apple iPhone 12 Pro</td>\n",
       "      <td>1</td>\n",
       "      <td>Mobilní telefony</td>\n",
       "      <td>27990</td>\n",
       "      <td>27990</td>\n",
       "      <td>Sunday</td>\n",
       "      <td>May</td>\n",
       "    </tr>\n",
       "  </tbody>\n",
       "</table>\n",
       "<p>141 rows × 9 columns</p>\n",
       "</div>"
      ],
      "text/plain": [
       "     Transaction ID       Date               Product name  Quantity  \\\n",
       "0                 1 2022-02-01           Samsung QN55Q80T         1   \n",
       "10                1 2022-02-01        Apple iPhone 12 Pro         1   \n",
       "30                2 2022-02-02         Xiaomi Poco X3 Pro         1   \n",
       "20                2 2022-02-02         Lenovo Tab P11 Pro         2   \n",
       "44                3 2022-02-03  Bose QuietComfort Earbuds         2   \n",
       "..              ...        ...                        ...       ...   \n",
       "118              77 2022-05-27     Samsung Galaxy Tab S7+         1   \n",
       "140              77 2022-05-27                LG 75NANO81         1   \n",
       "83               78 2022-05-29                LG OLED55CX         1   \n",
       "59               78 2022-05-29  Bose QuietComfort Earbuds         2   \n",
       "19               78 2022-05-29        Apple iPhone 12 Pro         1   \n",
       "\n",
       "             Category  Price  Paid amount Day of week     Month  \n",
       "0            Televize  29990        29990     Tuesday  February  \n",
       "10   Mobilní telefony  27990        27990     Tuesday  February  \n",
       "30   Mobilní telefony   5690         5690   Wednesday  February  \n",
       "20            Tablety  11990        23980   Wednesday  February  \n",
       "44              Audio   7490        14980    Thursday  February  \n",
       "..                ...    ...          ...         ...       ...  \n",
       "118           Tablety  24990        24990      Friday       May  \n",
       "140          Televize  44990        44990      Friday       May  \n",
       "83           Televize  38990        38990      Sunday       May  \n",
       "59              Audio   7490        14980      Sunday       May  \n",
       "19   Mobilní telefony  27990        27990      Sunday       May  \n",
       "\n",
       "[141 rows x 9 columns]"
      ]
     },
     "execution_count": 12,
     "metadata": {},
     "output_type": "execute_result"
    }
   ],
   "source": [
    "money_transactions_DF[\"Month\"] = money_transactions_DF[\"Date\"].dt.month_name()\n",
    "money_transactions_DF = money_transactions_DF.sort_values(by=\"Date\")\n",
    "money_transactions_DF"
   ]
  },
  {
   "cell_type": "markdown",
   "id": "9488843b",
   "metadata": {},
   "source": [
    "get the information about monthly amount of money by category (by pivoting the table):"
   ]
  },
  {
   "cell_type": "code",
   "execution_count": 13,
   "id": "b678d064",
   "metadata": {
    "scrolled": true
   },
   "outputs": [],
   "source": [
    "# Get the unique months in the original order\n",
    "month_order = money_transactions_DF['Month'].unique()\n",
    "\n",
    "# Convert 'month' column to Categorical data type with the specified order\n",
    "money_transactions_DF['Month'] = pd.Categorical(money_transactions_DF['Month'], categories=month_order, ordered=True)\n",
    "\n",
    "# Create a pivot table to calculate the total amount for each category and month combination\n",
    "pivot_df = money_transactions_DF.pivot_table(values='Paid amount', index='Category', columns='Month', aggfunc='sum')"
   ]
  },
  {
   "cell_type": "markdown",
   "id": "1da99bb0",
   "metadata": {},
   "source": [
    "check whether the table pivoted correctly:"
   ]
  },
  {
   "cell_type": "code",
   "execution_count": 14,
   "id": "6bc1c641",
   "metadata": {},
   "outputs": [
    {
     "data": {
      "text/html": [
       "<div>\n",
       "<style scoped>\n",
       "    .dataframe tbody tr th:only-of-type {\n",
       "        vertical-align: middle;\n",
       "    }\n",
       "\n",
       "    .dataframe tbody tr th {\n",
       "        vertical-align: top;\n",
       "    }\n",
       "\n",
       "    .dataframe thead th {\n",
       "        text-align: right;\n",
       "    }\n",
       "</style>\n",
       "<table border=\"1\" class=\"dataframe\">\n",
       "  <thead>\n",
       "    <tr style=\"text-align: right;\">\n",
       "      <th>Month</th>\n",
       "      <th>February</th>\n",
       "      <th>March</th>\n",
       "      <th>April</th>\n",
       "      <th>May</th>\n",
       "    </tr>\n",
       "    <tr>\n",
       "      <th>Category</th>\n",
       "      <th></th>\n",
       "      <th></th>\n",
       "      <th></th>\n",
       "      <th></th>\n",
       "    </tr>\n",
       "  </thead>\n",
       "  <tbody>\n",
       "    <tr>\n",
       "      <th>Audio</th>\n",
       "      <td>130310</td>\n",
       "      <td>107820</td>\n",
       "      <td>107840</td>\n",
       "      <td>70400</td>\n",
       "    </tr>\n",
       "    <tr>\n",
       "      <th>Mobilní telefony</th>\n",
       "      <td>208690</td>\n",
       "      <td>157710</td>\n",
       "      <td>177510</td>\n",
       "      <td>70550</td>\n",
       "    </tr>\n",
       "    <tr>\n",
       "      <th>Tablety</th>\n",
       "      <td>188890</td>\n",
       "      <td>164910</td>\n",
       "      <td>171910</td>\n",
       "      <td>97950</td>\n",
       "    </tr>\n",
       "    <tr>\n",
       "      <th>Televize</th>\n",
       "      <td>290920</td>\n",
       "      <td>380900</td>\n",
       "      <td>266930</td>\n",
       "      <td>266930</td>\n",
       "    </tr>\n",
       "  </tbody>\n",
       "</table>\n",
       "</div>"
      ],
      "text/plain": [
       "Month             February   March   April     May\n",
       "Category                                          \n",
       "Audio               130310  107820  107840   70400\n",
       "Mobilní telefony    208690  157710  177510   70550\n",
       "Tablety             188890  164910  171910   97950\n",
       "Televize            290920  380900  266930  266930"
      ]
     },
     "execution_count": 14,
     "metadata": {},
     "output_type": "execute_result"
    }
   ],
   "source": [
    "pivot_df"
   ]
  },
  {
   "cell_type": "markdown",
   "id": "9e00263e",
   "metadata": {},
   "source": [
    "Plot as barplots for every month (a bit less concentrated of a plot but easy to spot mistakes in):\n",
    "((not used in the final report -- just for myself))"
   ]
  },
  {
   "cell_type": "code",
   "execution_count": 15,
   "id": "980d599a",
   "metadata": {},
   "outputs": [
    {
     "data": {
      "image/png": "[encoded data removed]",
      "text/plain": [
       "<Figure size 2400x600 with 4 Axes>"
      ]
     },
     "metadata": {},
     "output_type": "display_data"
    }
   ],
   "source": [
    "# Create subplots\n",
    "fig, axes = plt.subplots(ncols=len(pivot_df.columns), figsize=(6 * len(pivot_df.columns), 6))\n",
    "\n",
    "# Iterate over each month\n",
    "for i, month in enumerate(pivot_df.columns):\n",
    "    # Plot a bar plot for each category\n",
    "    axes[i].bar(pivot_df.index, pivot_df[month])\n",
    "    axes[i].set_xlabel('Kategorie')\n",
    "    axes[i].set_ylabel('Tržby')\n",
    "    axes[i].set_title(f'Měsíc: {month}')\n",
    "\n",
    "# Adjust the spacing between subplots\n",
    "plt.tight_layout()\n",
    "\n",
    "# Show the plot\n",
    "plt.show()"
   ]
  },
  {
   "cell_type": "markdown",
   "id": "d96356eb",
   "metadata": {},
   "source": [
    "plot a time-dependent plot for each category:"
   ]
  },
  {
   "cell_type": "code",
   "execution_count": 16,
   "id": "60c49851",
   "metadata": {
    "scrolled": false
   },
   "outputs": [
    {
     "data": {
      "image/png": "[encoded data removed]",
      "text/plain": [
       "<Figure size 640x480 with 1 Axes>"
      ]
     },
     "metadata": {},
     "output_type": "display_data"
    }
   ],
   "source": [
    "month_names = [\n",
    "    'January',\n",
    "    'February',\n",
    "    'March',\n",
    "    'April',\n",
    "    'May',\n",
    "    'June',\n",
    "    'July',\n",
    "    'August',\n",
    "    'September',\n",
    "    'October',\n",
    "    'November',\n",
    "    'December'\n",
    "    ]\n",
    "month_names_to_CZ = {\n",
    "   'January':\"Leden\",\n",
    "    'February':\"Únor\",\n",
    "    'March':\"Březen\",\n",
    "    'April':\"Duben\",\n",
    "    'May':\"Květen\",\n",
    "    'June':\"Červen\",\n",
    "    'July':\"Červenec\",\n",
    "    'August':\"Srpen\",\n",
    "    'September':\"Září\",\n",
    "    'October':\"Říjen\",\n",
    "    'November':\"Listopad\",\n",
    "    'December':\"Prosinec\"\n",
    "    }\n",
    "\n",
    "\n",
    "# Transpose the pivot DataFrame # so that months end up on the x-axis and not in the datelines\n",
    "transposed_df = pivot_df.T\n",
    "\n",
    "# collect month names and translate them to CZ\n",
    "month_names_CZ = []\n",
    "months = transposed_df.index\n",
    "for month in months:\n",
    "    month_names_CZ.append(month_names_to_CZ[month])\n",
    "\n",
    "# Convert 'Month' column to categorical data type with specified order\n",
    "transposed_df.index = pd.Categorical(transposed_df.index, categories=month_names, ordered=True)\n",
    "\n",
    "# Sort the DataFrame by the 'Month' index\n",
    "transposed_df.sort_index(inplace=True)\n",
    "\n",
    "# Plot the timeline\n",
    "transposed_df.plot(kind='line')\n",
    "\n",
    "# Set the labels and title\n",
    "plt.xlabel(None)\n",
    "plt.ylabel('Tržba [Kč]')\n",
    "plt.title('Časový průběh tržeb dle kategorií')\n",
    "plt.xticks(range(len(months)), month_names_CZ)\n",
    "\n",
    "# Show the plot\n",
    "plt.savefig(\"monthly_turnover_by_category.png\")\n",
    "plt.show()"
   ]
  },
  {
   "cell_type": "markdown",
   "id": "15161c2f",
   "metadata": {},
   "source": [
    "# Task 2:"
   ]
  },
  {
   "cell_type": "markdown",
   "id": "1d8a4b55",
   "metadata": {},
   "source": [
    "get a DFgroupby object of transactions grouped by transaction ID:"
   ]
  },
  {
   "cell_type": "code",
   "execution_count": 17,
   "id": "a7fb0d0e",
   "metadata": {},
   "outputs": [],
   "source": [
    "transactions_grouped_by_tID_DFgb = money_transactions_DF.groupby(\"Transaction ID\")"
   ]
  },
  {
   "cell_type": "markdown",
   "id": "f089bdf5",
   "metadata": {},
   "source": [
    "plot the counts of transactions by day (using a bar plot):"
   ]
  },
  {
   "cell_type": "code",
   "execution_count": 18,
   "id": "136d6342",
   "metadata": {},
   "outputs": [
    {
     "data": {
      "image/png": "[encoded data removed]",
      "text/plain": [
       "<Figure size 640x480 with 1 Axes>"
      ]
     },
     "metadata": {},
     "output_type": "display_data"
    }
   ],
   "source": [
    "list_of_transactions_by_days = [] # initialize container\n",
    "\n",
    "#prepare a list of days where one record i.e.: \"Monday\" means a transaction occured that day\n",
    "# in other words: from every group (transaction) enlist one dayname representing the transaction\n",
    "for ID, group in transactions_grouped_by_tID_DFgb:\n",
    "    #print(f\"ID: {ID}\")\n",
    "    #print(group[\"Day of week\"].unique())\n",
    "    #print(\"*****\")\n",
    "    list_of_transactions_by_days.append(str(group[\"Day of week\"].unique()[0]))#ensure we count only once per tID\n",
    "    \n",
    "#print(list_of_transactions_by_days)\n",
    "\n",
    "\n",
    "#used for plotting in CZ:\n",
    "day_names = [         \n",
    "        'Monday',         \n",
    "        'Tuesday',         \n",
    "        'Wednesday',         \n",
    "        'Thursday',         \n",
    "        'Friday',         \n",
    "        'Saturday',\n",
    "        'Sunday',    \n",
    "        ]\n",
    "day_names_to_CZ = {         \n",
    "        'Monday':\"Po\",         \n",
    "        'Tuesday':\"Út\",         \n",
    "        'Wednesday':\"St\",         \n",
    "        'Thursday':\"Čt\",         \n",
    "        'Friday':\"Pá\",         \n",
    "        'Saturday':\"So\",\n",
    "        'Sunday':\"Ne\", \n",
    "        }\n",
    "\n",
    "# convert through a dictionary:\n",
    "day_names_CZ = []\n",
    "for day in day_names:\n",
    "    day_names_CZ.append(day_names_to_CZ[day])\n",
    "\n",
    "# count the occurences of each dayname:\n",
    "counts_for_days_of_week = []\n",
    "for day in day_names:\n",
    "    # print(f\"{day}:\",list_of_transactions_by_days.count(day))\n",
    "    counts_for_days_of_week.append(list_of_transactions_by_days.count(day))\n",
    "\n",
    "# identify maximum value of counts for a more readable barplot:\n",
    "maximum = max(counts_for_days_of_week)\n",
    "\n",
    "# plot the barplot:\n",
    "plt.bar(day_names_CZ,counts_for_days_of_week, width=0.5)\n",
    "plt.axhline(maximum, linestyle = \"--\", color = \"grey\" )\n",
    "plt.ylabel(\"Počet transakcí\")\n",
    "plt.title(\"Počet transakcí podle dnu v týdnu\")\n",
    "\n",
    "plt.savefig(\"transactions_by_dayname.png\")\n",
    "plt.show()"
   ]
  },
  {
   "cell_type": "markdown",
   "id": "db23fb2c",
   "metadata": {},
   "source": [
    "### alternative metric: "
   ]
  },
  {
   "cell_type": "markdown",
   "id": "2f637994",
   "metadata": {},
   "source": [
    "count of sold products i.e.: 2 iPhones in the same transaction count as one but a samsung phone and an iphone in one transaction count as two (probably not what is meant by the question in the instructions)"
   ]
  },
  {
   "cell_type": "code",
   "execution_count": 19,
   "id": "5118e23d",
   "metadata": {},
   "outputs": [],
   "source": [
    "series_2 = money_transactions_DF.groupby(\"Day of week\")[\"Transaction ID\"].count().loc[day_names]\n",
    "series_2\n",
    "maximum_2 = max(series_2)"
   ]
  },
  {
   "cell_type": "code",
   "execution_count": 20,
   "id": "1ed1702c",
   "metadata": {
    "scrolled": false
   },
   "outputs": [
    {
     "data": {
      "text/plain": [
       "Text(0, 0.5, 'Počet prodaných produktů')"
      ]
     },
     "execution_count": 20,
     "metadata": {},
     "output_type": "execute_result"
    },
    {
     "data": {
      "image/png": "[encoded data removed]",
      "text/plain": [
       "<Figure size 640x480 with 1 Axes>"
      ]
     },
     "metadata": {},
     "output_type": "display_data"
    }
   ],
   "source": [
    "series_2.plot.bar()\n",
    "plt.axhline(maximum_2, linestyle=\"--\", color=\"gray\")\n",
    "plt.xticks(range(len(series_2.index)),day_names_CZ, rotation=0 )\n",
    "plt.xlabel(None)\n",
    "plt.ylabel(\"Počet prodaných produktů\")"
   ]
  },
  {
   "cell_type": "markdown",
   "id": "fec1282a",
   "metadata": {},
   "source": [
    "### alternative metric 2: "
   ]
  },
  {
   "cell_type": "markdown",
   "id": "f6082985",
   "metadata": {},
   "source": [
    "count of sold pieces i.e.: 2 iPhones in the same transaction count as two. A samsung phone and an iphone in one transaction count as two as well (probably not what is meant by the question in the instructions)."
   ]
  },
  {
   "cell_type": "code",
   "execution_count": 21,
   "id": "9724493b",
   "metadata": {},
   "outputs": [
    {
     "data": {
      "text/plain": [
       "Day of week\n",
       "Friday       22\n",
       "Monday       29\n",
       "Saturday     31\n",
       "Sunday       18\n",
       "Thursday     19\n",
       "Tuesday      18\n",
       "Wednesday    26\n",
       "Name: Quantity, dtype: int64"
      ]
     },
     "execution_count": 21,
     "metadata": {},
     "output_type": "execute_result"
    }
   ],
   "source": [
    "series_3 = money_transactions_DF.groupby(\"Day of week\")[\"Quantity\"].sum()\n",
    "series_3"
   ]
  },
  {
   "cell_type": "code",
   "execution_count": 22,
   "id": "b193657e",
   "metadata": {},
   "outputs": [],
   "source": [
    "sorted_series_3 = series_3.loc[day_names]\n",
    "maximum_3 = max(sorted_series_3)"
   ]
  },
  {
   "cell_type": "markdown",
   "id": "e2c8418c",
   "metadata": {},
   "source": [
    "Plot the barplot:"
   ]
  },
  {
   "cell_type": "code",
   "execution_count": 23,
   "id": "b917450f",
   "metadata": {},
   "outputs": [
    {
     "data": {
      "image/png": "[encoded data removed]",
      "text/plain": [
       "<Figure size 640x480 with 1 Axes>"
      ]
     },
     "metadata": {},
     "output_type": "display_data"
    }
   ],
   "source": [
    "sorted_series_3.plot.bar()\n",
    "plt.axhline(maximum_3, linestyle = \"--\", color = \"gray\") # the maximum line - easier to read\n",
    "plt.xticks(range(len(sorted_series_3.index)),day_names_CZ, rotation=0)\n",
    "plt.xlabel(None)\n",
    "plt.ylabel(\"Počet prodaných kusů\")\n",
    "plt.title(\"Počet prodaných kusů podle dnu v týdnu\")\n",
    "plt.savefig(\"sold_pieces_by_dayname.png\")\n",
    "plt.show()"
   ]
  },
  {
   "cell_type": "code",
   "execution_count": 24,
   "id": "6f8ff9c0",
   "metadata": {},
   "outputs": [],
   "source": [
    "sorted_money_transactions_DF = money_transactions_DF.sort_values(by=\"Date\")"
   ]
  },
  {
   "cell_type": "markdown",
   "id": "4b953443",
   "metadata": {},
   "source": [
    "# Task 3:"
   ]
  },
  {
   "cell_type": "code",
   "execution_count": 25,
   "id": "4916557a",
   "metadata": {},
   "outputs": [],
   "source": [
    "slicing_date = \"2022-03-18\" # the day we increased budget on e-marketing tools"
   ]
  },
  {
   "cell_type": "markdown",
   "id": "3c1c0127",
   "metadata": {},
   "source": [
    "Slice the table in half: (the date of the change is regarded as \"before the change\")"
   ]
  },
  {
   "cell_type": "code",
   "execution_count": 26,
   "id": "4b30577e",
   "metadata": {},
   "outputs": [
    {
     "data": {
      "text/html": [
       "<div>\n",
       "<style scoped>\n",
       "    .dataframe tbody tr th:only-of-type {\n",
       "        vertical-align: middle;\n",
       "    }\n",
       "\n",
       "    .dataframe tbody tr th {\n",
       "        vertical-align: top;\n",
       "    }\n",
       "\n",
       "    .dataframe thead th {\n",
       "        text-align: right;\n",
       "    }\n",
       "</style>\n",
       "<table border=\"1\" class=\"dataframe\">\n",
       "  <thead>\n",
       "    <tr style=\"text-align: right;\">\n",
       "      <th></th>\n",
       "      <th>Transaction ID</th>\n",
       "      <th>Date</th>\n",
       "      <th>Product name</th>\n",
       "      <th>Quantity</th>\n",
       "      <th>Category</th>\n",
       "      <th>Price</th>\n",
       "      <th>Paid amount</th>\n",
       "      <th>Day of week</th>\n",
       "      <th>Month</th>\n",
       "    </tr>\n",
       "  </thead>\n",
       "  <tbody>\n",
       "    <tr>\n",
       "      <th>0</th>\n",
       "      <td>1</td>\n",
       "      <td>2022-02-01</td>\n",
       "      <td>Samsung QN55Q80T</td>\n",
       "      <td>1</td>\n",
       "      <td>Televize</td>\n",
       "      <td>29990</td>\n",
       "      <td>29990</td>\n",
       "      <td>Tuesday</td>\n",
       "      <td>February</td>\n",
       "    </tr>\n",
       "    <tr>\n",
       "      <th>10</th>\n",
       "      <td>1</td>\n",
       "      <td>2022-02-01</td>\n",
       "      <td>Apple iPhone 12 Pro</td>\n",
       "      <td>1</td>\n",
       "      <td>Mobilní telefony</td>\n",
       "      <td>27990</td>\n",
       "      <td>27990</td>\n",
       "      <td>Tuesday</td>\n",
       "      <td>February</td>\n",
       "    </tr>\n",
       "    <tr>\n",
       "      <th>30</th>\n",
       "      <td>2</td>\n",
       "      <td>2022-02-02</td>\n",
       "      <td>Xiaomi Poco X3 Pro</td>\n",
       "      <td>1</td>\n",
       "      <td>Mobilní telefony</td>\n",
       "      <td>5690</td>\n",
       "      <td>5690</td>\n",
       "      <td>Wednesday</td>\n",
       "      <td>February</td>\n",
       "    </tr>\n",
       "    <tr>\n",
       "      <th>20</th>\n",
       "      <td>2</td>\n",
       "      <td>2022-02-02</td>\n",
       "      <td>Lenovo Tab P11 Pro</td>\n",
       "      <td>2</td>\n",
       "      <td>Tablety</td>\n",
       "      <td>11990</td>\n",
       "      <td>23980</td>\n",
       "      <td>Wednesday</td>\n",
       "      <td>February</td>\n",
       "    </tr>\n",
       "    <tr>\n",
       "      <th>44</th>\n",
       "      <td>3</td>\n",
       "      <td>2022-02-03</td>\n",
       "      <td>Bose QuietComfort Earbuds</td>\n",
       "      <td>2</td>\n",
       "      <td>Audio</td>\n",
       "      <td>7490</td>\n",
       "      <td>14980</td>\n",
       "      <td>Thursday</td>\n",
       "      <td>February</td>\n",
       "    </tr>\n",
       "    <tr>\n",
       "      <th>...</th>\n",
       "      <td>...</td>\n",
       "      <td>...</td>\n",
       "      <td>...</td>\n",
       "      <td>...</td>\n",
       "      <td>...</td>\n",
       "      <td>...</td>\n",
       "      <td>...</td>\n",
       "      <td>...</td>\n",
       "      <td>...</td>\n",
       "    </tr>\n",
       "    <tr>\n",
       "      <th>101</th>\n",
       "      <td>44</td>\n",
       "      <td>2022-03-16</td>\n",
       "      <td>Apple iPad Air</td>\n",
       "      <td>1</td>\n",
       "      <td>Tablety</td>\n",
       "      <td>17990</td>\n",
       "      <td>17990</td>\n",
       "      <td>Wednesday</td>\n",
       "      <td>March</td>\n",
       "    </tr>\n",
       "    <tr>\n",
       "      <th>125</th>\n",
       "      <td>45</td>\n",
       "      <td>2022-03-17</td>\n",
       "      <td>Sony WH-1000XM4</td>\n",
       "      <td>1</td>\n",
       "      <td>Audio</td>\n",
       "      <td>10490</td>\n",
       "      <td>10490</td>\n",
       "      <td>Thursday</td>\n",
       "      <td>March</td>\n",
       "    </tr>\n",
       "    <tr>\n",
       "      <th>4</th>\n",
       "      <td>45</td>\n",
       "      <td>2022-03-17</td>\n",
       "      <td>Samsung QN55Q80T</td>\n",
       "      <td>1</td>\n",
       "      <td>Televize</td>\n",
       "      <td>29990</td>\n",
       "      <td>29990</td>\n",
       "      <td>Thursday</td>\n",
       "      <td>March</td>\n",
       "    </tr>\n",
       "    <tr>\n",
       "      <th>136</th>\n",
       "      <td>46</td>\n",
       "      <td>2022-03-18</td>\n",
       "      <td>LG 75NANO81</td>\n",
       "      <td>1</td>\n",
       "      <td>Televize</td>\n",
       "      <td>44990</td>\n",
       "      <td>44990</td>\n",
       "      <td>Friday</td>\n",
       "      <td>March</td>\n",
       "    </tr>\n",
       "    <tr>\n",
       "      <th>36</th>\n",
       "      <td>46</td>\n",
       "      <td>2022-03-18</td>\n",
       "      <td>Xiaomi Poco X3 Pro</td>\n",
       "      <td>1</td>\n",
       "      <td>Mobilní telefony</td>\n",
       "      <td>5690</td>\n",
       "      <td>5690</td>\n",
       "      <td>Friday</td>\n",
       "      <td>March</td>\n",
       "    </tr>\n",
       "  </tbody>\n",
       "</table>\n",
       "<p>66 rows × 9 columns</p>\n",
       "</div>"
      ],
      "text/plain": [
       "     Transaction ID       Date               Product name  Quantity  \\\n",
       "0                 1 2022-02-01           Samsung QN55Q80T         1   \n",
       "10                1 2022-02-01        Apple iPhone 12 Pro         1   \n",
       "30                2 2022-02-02         Xiaomi Poco X3 Pro         1   \n",
       "20                2 2022-02-02         Lenovo Tab P11 Pro         2   \n",
       "44                3 2022-02-03  Bose QuietComfort Earbuds         2   \n",
       "..              ...        ...                        ...       ...   \n",
       "101              44 2022-03-16             Apple iPad Air         1   \n",
       "125              45 2022-03-17            Sony WH-1000XM4         1   \n",
       "4                45 2022-03-17           Samsung QN55Q80T         1   \n",
       "136              46 2022-03-18                LG 75NANO81         1   \n",
       "36               46 2022-03-18         Xiaomi Poco X3 Pro         1   \n",
       "\n",
       "             Category  Price  Paid amount Day of week     Month  \n",
       "0            Televize  29990        29990     Tuesday  February  \n",
       "10   Mobilní telefony  27990        27990     Tuesday  February  \n",
       "30   Mobilní telefony   5690         5690   Wednesday  February  \n",
       "20            Tablety  11990        23980   Wednesday  February  \n",
       "44              Audio   7490        14980    Thursday  February  \n",
       "..                ...    ...          ...         ...       ...  \n",
       "101           Tablety  17990        17990   Wednesday     March  \n",
       "125             Audio  10490        10490    Thursday     March  \n",
       "4            Televize  29990        29990    Thursday     March  \n",
       "136          Televize  44990        44990      Friday     March  \n",
       "36   Mobilní telefony   5690         5690      Friday     March  \n",
       "\n",
       "[66 rows x 9 columns]"
      ]
     },
     "execution_count": 26,
     "metadata": {},
     "output_type": "execute_result"
    }
   ],
   "source": [
    "money_before_date = sorted_money_transactions_DF[sorted_money_transactions_DF[\"Date\"] <= slicing_date]\n",
    "money_before_date # inspect the table"
   ]
  },
  {
   "cell_type": "markdown",
   "id": "c4dc4950",
   "metadata": {},
   "source": [
    "count the number of days before the change occured:"
   ]
  },
  {
   "cell_type": "code",
   "execution_count": 27,
   "id": "14444316",
   "metadata": {},
   "outputs": [],
   "source": [
    "number_of_days_before = (money_before_date[\"Date\"].iat[-1] - money_before_date[\"Date\"][0]).days\n",
    "#print(number_of_days_before) # inspect the number"
   ]
  },
  {
   "cell_type": "markdown",
   "id": "398f1871",
   "metadata": {},
   "source": [
    "get the table for the days after the change:"
   ]
  },
  {
   "cell_type": "code",
   "execution_count": 28,
   "id": "03b3cc9f",
   "metadata": {},
   "outputs": [
    {
     "data": {
      "text/html": [
       "<div>\n",
       "<style scoped>\n",
       "    .dataframe tbody tr th:only-of-type {\n",
       "        vertical-align: middle;\n",
       "    }\n",
       "\n",
       "    .dataframe tbody tr th {\n",
       "        vertical-align: top;\n",
       "    }\n",
       "\n",
       "    .dataframe thead th {\n",
       "        text-align: right;\n",
       "    }\n",
       "</style>\n",
       "<table border=\"1\" class=\"dataframe\">\n",
       "  <thead>\n",
       "    <tr style=\"text-align: right;\">\n",
       "      <th></th>\n",
       "      <th>Transaction ID</th>\n",
       "      <th>Date</th>\n",
       "      <th>Product name</th>\n",
       "      <th>Quantity</th>\n",
       "      <th>Category</th>\n",
       "      <th>Price</th>\n",
       "      <th>Paid amount</th>\n",
       "      <th>Day of week</th>\n",
       "      <th>Month</th>\n",
       "    </tr>\n",
       "  </thead>\n",
       "  <tbody>\n",
       "    <tr>\n",
       "      <th>112</th>\n",
       "      <td>47</td>\n",
       "      <td>2022-03-19</td>\n",
       "      <td>Samsung Galaxy Tab S7+</td>\n",
       "      <td>1</td>\n",
       "      <td>Tablety</td>\n",
       "      <td>24990</td>\n",
       "      <td>24990</td>\n",
       "      <td>Saturday</td>\n",
       "      <td>March</td>\n",
       "    </tr>\n",
       "    <tr>\n",
       "      <th>51</th>\n",
       "      <td>48</td>\n",
       "      <td>2022-03-20</td>\n",
       "      <td>Bose QuietComfort Earbuds</td>\n",
       "      <td>2</td>\n",
       "      <td>Audio</td>\n",
       "      <td>7490</td>\n",
       "      <td>14980</td>\n",
       "      <td>Sunday</td>\n",
       "      <td>March</td>\n",
       "    </tr>\n",
       "    <tr>\n",
       "      <th>14</th>\n",
       "      <td>49</td>\n",
       "      <td>2022-03-21</td>\n",
       "      <td>Apple iPhone 12 Pro</td>\n",
       "      <td>1</td>\n",
       "      <td>Mobilní telefony</td>\n",
       "      <td>27990</td>\n",
       "      <td>27990</td>\n",
       "      <td>Monday</td>\n",
       "      <td>March</td>\n",
       "    </tr>\n",
       "    <tr>\n",
       "      <th>76</th>\n",
       "      <td>50</td>\n",
       "      <td>2022-03-22</td>\n",
       "      <td>LG OLED55CX</td>\n",
       "      <td>1</td>\n",
       "      <td>Televize</td>\n",
       "      <td>38990</td>\n",
       "      <td>38990</td>\n",
       "      <td>Tuesday</td>\n",
       "      <td>March</td>\n",
       "    </tr>\n",
       "    <tr>\n",
       "      <th>90</th>\n",
       "      <td>50</td>\n",
       "      <td>2022-03-22</td>\n",
       "      <td>JBL Charge 4</td>\n",
       "      <td>1</td>\n",
       "      <td>Audio</td>\n",
       "      <td>2990</td>\n",
       "      <td>2990</td>\n",
       "      <td>Tuesday</td>\n",
       "      <td>March</td>\n",
       "    </tr>\n",
       "    <tr>\n",
       "      <th>...</th>\n",
       "      <td>...</td>\n",
       "      <td>...</td>\n",
       "      <td>...</td>\n",
       "      <td>...</td>\n",
       "      <td>...</td>\n",
       "      <td>...</td>\n",
       "      <td>...</td>\n",
       "      <td>...</td>\n",
       "      <td>...</td>\n",
       "    </tr>\n",
       "    <tr>\n",
       "      <th>118</th>\n",
       "      <td>77</td>\n",
       "      <td>2022-05-27</td>\n",
       "      <td>Samsung Galaxy Tab S7+</td>\n",
       "      <td>1</td>\n",
       "      <td>Tablety</td>\n",
       "      <td>24990</td>\n",
       "      <td>24990</td>\n",
       "      <td>Friday</td>\n",
       "      <td>May</td>\n",
       "    </tr>\n",
       "    <tr>\n",
       "      <th>140</th>\n",
       "      <td>77</td>\n",
       "      <td>2022-05-27</td>\n",
       "      <td>LG 75NANO81</td>\n",
       "      <td>1</td>\n",
       "      <td>Televize</td>\n",
       "      <td>44990</td>\n",
       "      <td>44990</td>\n",
       "      <td>Friday</td>\n",
       "      <td>May</td>\n",
       "    </tr>\n",
       "    <tr>\n",
       "      <th>59</th>\n",
       "      <td>78</td>\n",
       "      <td>2022-05-29</td>\n",
       "      <td>Bose QuietComfort Earbuds</td>\n",
       "      <td>2</td>\n",
       "      <td>Audio</td>\n",
       "      <td>7490</td>\n",
       "      <td>14980</td>\n",
       "      <td>Sunday</td>\n",
       "      <td>May</td>\n",
       "    </tr>\n",
       "    <tr>\n",
       "      <th>83</th>\n",
       "      <td>78</td>\n",
       "      <td>2022-05-29</td>\n",
       "      <td>LG OLED55CX</td>\n",
       "      <td>1</td>\n",
       "      <td>Televize</td>\n",
       "      <td>38990</td>\n",
       "      <td>38990</td>\n",
       "      <td>Sunday</td>\n",
       "      <td>May</td>\n",
       "    </tr>\n",
       "    <tr>\n",
       "      <th>19</th>\n",
       "      <td>78</td>\n",
       "      <td>2022-05-29</td>\n",
       "      <td>Apple iPhone 12 Pro</td>\n",
       "      <td>1</td>\n",
       "      <td>Mobilní telefony</td>\n",
       "      <td>27990</td>\n",
       "      <td>27990</td>\n",
       "      <td>Sunday</td>\n",
       "      <td>May</td>\n",
       "    </tr>\n",
       "  </tbody>\n",
       "</table>\n",
       "<p>75 rows × 9 columns</p>\n",
       "</div>"
      ],
      "text/plain": [
       "     Transaction ID       Date               Product name  Quantity  \\\n",
       "112              47 2022-03-19     Samsung Galaxy Tab S7+         1   \n",
       "51               48 2022-03-20  Bose QuietComfort Earbuds         2   \n",
       "14               49 2022-03-21        Apple iPhone 12 Pro         1   \n",
       "76               50 2022-03-22                LG OLED55CX         1   \n",
       "90               50 2022-03-22               JBL Charge 4         1   \n",
       "..              ...        ...                        ...       ...   \n",
       "118              77 2022-05-27     Samsung Galaxy Tab S7+         1   \n",
       "140              77 2022-05-27                LG 75NANO81         1   \n",
       "59               78 2022-05-29  Bose QuietComfort Earbuds         2   \n",
       "83               78 2022-05-29                LG OLED55CX         1   \n",
       "19               78 2022-05-29        Apple iPhone 12 Pro         1   \n",
       "\n",
       "             Category  Price  Paid amount Day of week  Month  \n",
       "112           Tablety  24990        24990    Saturday  March  \n",
       "51              Audio   7490        14980      Sunday  March  \n",
       "14   Mobilní telefony  27990        27990      Monday  March  \n",
       "76           Televize  38990        38990     Tuesday  March  \n",
       "90              Audio   2990         2990     Tuesday  March  \n",
       "..                ...    ...          ...         ...    ...  \n",
       "118           Tablety  24990        24990      Friday    May  \n",
       "140          Televize  44990        44990      Friday    May  \n",
       "59              Audio   7490        14980      Sunday    May  \n",
       "83           Televize  38990        38990      Sunday    May  \n",
       "19   Mobilní telefony  27990        27990      Sunday    May  \n",
       "\n",
       "[75 rows x 9 columns]"
      ]
     },
     "execution_count": 28,
     "metadata": {},
     "output_type": "execute_result"
    }
   ],
   "source": [
    "money_after_date = sorted_money_transactions_DF[sorted_money_transactions_DF[\"Date\"] > slicing_date]\n",
    "money_after_date # to inspect the table"
   ]
  },
  {
   "cell_type": "code",
   "execution_count": 29,
   "id": "f95281b9",
   "metadata": {},
   "outputs": [],
   "source": [
    "#get the number of days after the change:"
   ]
  },
  {
   "cell_type": "code",
   "execution_count": 30,
   "id": "fd32718d",
   "metadata": {},
   "outputs": [],
   "source": [
    "number_of_days_after = (money_after_date[\"Date\"].iat[-1] - money_after_date[\"Date\"].iat[0]).days\n",
    "#print(number_of_days_after+number_of_days_before,(sorted_money_transactions_DF[\"Date\"].iat[-1] - sorted_money_transactions_DF[\"Date\"].iat[0]).days)"
   ]
  },
  {
   "cell_type": "code",
   "execution_count": 31,
   "id": "38c25cb2",
   "metadata": {},
   "outputs": [],
   "source": [
    "# sum the money before change"
   ]
  },
  {
   "cell_type": "code",
   "execution_count": 32,
   "id": "7f3d4f94",
   "metadata": {},
   "outputs": [],
   "source": [
    "total_money_before = money_before_date[\"Paid amount\"].sum()\n",
    "#print(total_money_before)"
   ]
  },
  {
   "cell_type": "code",
   "execution_count": 33,
   "id": "ef2602e7",
   "metadata": {},
   "outputs": [],
   "source": [
    "# divide by the number of days -- effectively averaging it"
   ]
  },
  {
   "cell_type": "code",
   "execution_count": 34,
   "id": "1c5b11f1",
   "metadata": {},
   "outputs": [],
   "source": [
    "total_money_before_per_day = total_money_before/number_of_days_before"
   ]
  },
  {
   "cell_type": "code",
   "execution_count": 35,
   "id": "5a12a7a3",
   "metadata": {},
   "outputs": [],
   "source": [
    "# sum the money after change"
   ]
  },
  {
   "cell_type": "code",
   "execution_count": 36,
   "id": "f44f4550",
   "metadata": {},
   "outputs": [],
   "source": [
    "total_money_after = money_after_date[\"Paid amount\"].sum()\n",
    "#print(total_money_after)"
   ]
  },
  {
   "cell_type": "code",
   "execution_count": 37,
   "id": "837ef357",
   "metadata": {},
   "outputs": [],
   "source": [
    "# divide by the number of days -- effectively averaging it"
   ]
  },
  {
   "cell_type": "code",
   "execution_count": 38,
   "id": "f2a4c948",
   "metadata": {},
   "outputs": [],
   "source": [
    "total_money_after_per_day = total_money_after/number_of_days_after"
   ]
  },
  {
   "cell_type": "markdown",
   "id": "e10b238a",
   "metadata": {},
   "source": [
    "printcheck the results ofo the averages:"
   ]
  },
  {
   "cell_type": "code",
   "execution_count": 39,
   "id": "884eae24",
   "metadata": {},
   "outputs": [
    {
     "name": "stdout",
     "output_type": "stream",
     "text": [
      "money before per day: 29370, money after per day 21669\n"
     ]
    }
   ],
   "source": [
    "print(f\"money before per day: {round(total_money_before_per_day)}, money after per day {round(total_money_after_per_day)}\")"
   ]
  },
  {
   "cell_type": "markdown",
   "id": "161838f7",
   "metadata": {},
   "source": [
    "create a pandas series for filling in the dates where no bussiness was done and then plotting:"
   ]
  },
  {
   "cell_type": "code",
   "execution_count": 40,
   "id": "01443fc4",
   "metadata": {},
   "outputs": [],
   "source": [
    "series = sorted_money_transactions_DF.groupby(\"Date\")[\"Paid amount\"].sum()"
   ]
  },
  {
   "cell_type": "code",
   "execution_count": 41,
   "id": "fad1d41d",
   "metadata": {},
   "outputs": [
    {
     "data": {
      "image/png": "[encoded data removed]",
      "text/plain": [
       "<Figure size 640x480 with 1 Axes>"
      ]
     },
     "metadata": {},
     "output_type": "display_data"
    }
   ],
   "source": [
    "import matplotlib.dates as mdates # something for date format handling\n",
    "\n",
    "# Convert the index to a datetime type\n",
    "series.index = pd.to_datetime(series.index)\n",
    "\n",
    "# Create a complete date sequence using a specified frequency (e.g., daily)\n",
    "complete_date_sequence = pd.date_range(start=series.index.min(), end=series.index.max(), freq='D')\n",
    "\n",
    "# Reindex the series with the complete date sequence and fill missing values with 0\n",
    "series = series.reindex(complete_date_sequence, fill_value=0)\n",
    "\n",
    "# Plot the line plot\n",
    "fig, ax = plt.subplots()\n",
    "series.plot(kind='line', label='Denní tržba', ax=ax)\n",
    "\n",
    "# Set the labels and title\n",
    "plt.xlabel('Datum [RRRR-mm-dd]')\n",
    "plt.ylabel('Tržba [Kč]')\n",
    "plt.title('Denní tržby')\n",
    "\n",
    "\n",
    "# additional lines:\n",
    "plt.axvline(slicing_date, linestyle=\"--\", color=\"gray\", label=\"Změna v marketingu\") #date of change indicator\n",
    "plt.axhline(total_money_before_per_day, xmax=3, linestyle=\"--\", color=\"green\", label=\"Průměr před změnou\")# avg before\n",
    "plt.axhline(total_money_after_per_day, linestyle=\"--\", color=\"red\", label=\"Průměr po změně\") # avg after\n",
    "\n",
    "# Format x-axis ticks to display only the first day and fifteenth day of each month with complete date\n",
    "ax.xaxis.set_major_locator(mdates.DayLocator(bymonthday=[1, 15]))\n",
    "ax.xaxis.set_major_formatter(mdates.DateFormatter('%Y-%m-%d'))\n",
    "\n",
    "# show the legend\n",
    "plt.legend()\n",
    "# rotate ticklabels:\n",
    "plt.xticks(rotation=45)\n",
    "\n",
    "\n",
    "# plot\n",
    "plt.savefig(\"daily_turnover_with_change.png\")\n",
    "plt.show()\n"
   ]
  },
  {
   "cell_type": "markdown",
   "id": "84474af9",
   "metadata": {},
   "source": [
    "create two series to calculate t-test on"
   ]
  },
  {
   "cell_type": "code",
   "execution_count": 42,
   "id": "4191cf06",
   "metadata": {},
   "outputs": [],
   "source": [
    "# Convert the index to a datetime type\n",
    "series.index = pd.to_datetime(series.index)\n",
    "\n",
    "# Split the series into before and after based on the splitting date\n",
    "before_series = series[series.index <= slicing_date]\n",
    "after_series = series[series.index > slicing_date]\n"
   ]
  },
  {
   "cell_type": "markdown",
   "id": "2d29cb20",
   "metadata": {},
   "source": [
    "calculate the t-test"
   ]
  },
  {
   "cell_type": "code",
   "execution_count": 43,
   "id": "83861079",
   "metadata": {},
   "outputs": [
    {
     "name": "stdout",
     "output_type": "stream",
     "text": [
      "t-statistic: 1.2984989828082845\n",
      "p-value: 0.19697025452509342\n"
     ]
    }
   ],
   "source": [
    "from scipy.stats import ttest_ind\n",
    "\n",
    "# Perform an independent t-test\n",
    "t_statistic, p_value = ttest_ind(before_series, after_series, equal_var=False)\n",
    "\n",
    "# Print the t-statistic and p-value\n",
    "print(\"t-statistic:\", t_statistic)\n",
    "print(\"p-value:\", p_value)\n"
   ]
  },
  {
   "cell_type": "markdown",
   "id": "7bbae37f",
   "metadata": {},
   "source": [
    "some basic auto-evaluation:"
   ]
  },
  {
   "cell_type": "code",
   "execution_count": 44,
   "id": "9b2b1d7c",
   "metadata": {},
   "outputs": [
    {
     "name": "stdout",
     "output_type": "stream",
     "text": [
      "The difference is NOT statistically significant!\n"
     ]
    }
   ],
   "source": [
    "if p_value<=0.05:\n",
    "    print(\"The difference is significant!\")\n",
    "else:\n",
    "    print(\"The difference is NOT statistically significant!\")\n",
    "        "
   ]
  },
  {
   "cell_type": "code",
   "execution_count": null,
   "id": "cebbffb3",
   "metadata": {},
   "outputs": [],
   "source": []
  }
 ],
 "metadata": {
  "kernelspec": {
   "display_name": "Python 3 (ipykernel)",
   "language": "python",
   "name": "python3"
  },
  "language_info": {
   "codemirror_mode": {
    "name": "ipython",
    "version": 3
   },
   "file_extension": ".py",
   "mimetype": "text/x-python",
   "name": "python",
   "nbconvert_exporter": "python",
   "pygments_lexer": "ipython3",
   "version": "3.9.16"
  }
 },
 "nbformat": 4,
 "nbformat_minor": 5
}
